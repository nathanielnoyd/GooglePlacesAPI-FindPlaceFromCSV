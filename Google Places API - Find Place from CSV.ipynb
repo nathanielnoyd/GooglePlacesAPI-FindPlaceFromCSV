{
 "cells": [
  {
   "cell_type": "code",
   "execution_count": null,
   "metadata": {},
   "outputs": [],
   "source": [
    "# import numpy and pandas \n",
    "import numpy as np\n",
    "import pandas as pd"
   ]
  },
  {
   "cell_type": "code",
   "execution_count": null,
   "metadata": {},
   "outputs": [],
   "source": [
    "# install the googlemaps library\n",
    "!pip install googlemaps\n",
    "# import the googlemaps library\n",
    "import googlemaps"
   ]
  },
  {
   "cell_type": "code",
   "execution_count": null,
   "metadata": {},
   "outputs": [],
   "source": [
    "# import DataFrame from CSV file\n",
    "# first row is header and will be ignored\n",
    "df = pd.read_csv(\"input.csv\")"
   ]
  },
  {
   "cell_type": "code",
   "execution_count": null,
   "metadata": {},
   "outputs": [],
   "source": [
    "# check the dataframe\n",
    "df"
   ]
  },
  {
   "cell_type": "code",
   "execution_count": null,
   "metadata": {},
   "outputs": [],
   "source": [
    "# set Google Maps API key\n",
    "api_key = \"YOUR_KEY_WITHIN_QUOTATION_MARKS\""
   ]
  },
  {
   "cell_type": "code",
   "execution_count": null,
   "metadata": {},
   "outputs": [],
   "source": [
    "# define the googlemaps client with the API key\n",
    "gmaps = googlemaps.Client(key = api_key)"
   ]
  },
  {
   "cell_type": "code",
   "execution_count": null,
   "metadata": {},
   "outputs": [],
   "source": [
    "# create a column in the DataFrame for the Google place id, set it to None at first\n",
    "df[\"google_places_id\"] = None"
   ]
  },
  {
   "cell_type": "code",
   "execution_count": null,
   "metadata": {},
   "outputs": [],
   "source": [
    "# check the data. the new column should appear.\n",
    "df"
   ]
  },
  {
   "cell_type": "code",
   "execution_count": null,
   "metadata": {},
   "outputs": [],
   "source": [
    "# run through each row in the data\n",
    "# search for the string as a \"textquery\" and send back the \"place_id\" field, save it as \"result\"\n",
    "# pull in the \"place_id\" and save it as \"placeident\"\n",
    "# place that \"placeident\" in the column called \"google_places_id\"\n",
    "# if there is no result, leave the cell blank\n",
    "for i in range(0, len(df), 1):\n",
    "    result = gmaps.find_place(df.iat[i,0], \"textquery\", fields=[\"place_id\"])\n",
    "    try:\n",
    "        placeident = result[\"candidates\"][0][\"place_id\"]\n",
    "        df.iat[i, df.columns.get_loc(\"google_places_id\")] = placeident\n",
    "    except: placeident = None"
   ]
  },
  {
   "cell_type": "code",
   "execution_count": null,
   "metadata": {
    "scrolled": true
   },
   "outputs": [],
   "source": [
    "# check the data. place_id column should now be filled.\n",
    "df"
   ]
  },
  {
   "cell_type": "code",
   "execution_count": null,
   "metadata": {},
   "outputs": [],
   "source": [
    "# export the data to an Excel file\n",
    "df.to_excel(\"output.xlsx\", index=False)"
   ]
  }
 ],
 "metadata": {
  "kernelspec": {
   "display_name": "Python 3",
   "language": "python",
   "name": "python3"
  },
  "language_info": {
   "codemirror_mode": {
    "name": "ipython",
    "version": 3
   },
   "file_extension": ".py",
   "mimetype": "text/x-python",
   "name": "python",
   "nbconvert_exporter": "python",
   "pygments_lexer": "ipython3",
   "version": "3.8.3"
  }
 },
 "nbformat": 4,
 "nbformat_minor": 4
}
